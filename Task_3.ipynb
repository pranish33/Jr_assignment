{
 "cells": [
  {
   "cell_type": "markdown",
   "metadata": {},
   "source": [
    "## Given Dictionary "
   ]
  },
  {
   "cell_type": "code",
   "execution_count": 130,
   "metadata": {},
   "outputs": [],
   "source": [
    "chest = {\n",
    "'42': 'It is the Answer to Life the Universe and Everything.',\n",
    "'666': 'If you would be a real seeker after truth, it is necessary that at least once in your life you doubt, as far as possible, all things.',\n",
    "'8': 'It is wrong always, everywhere and for everyone, to believe anything upon insufficient evidence.',\n",
    "'13': 'The Truth is in the Heart.',\n",
    "'0': 'Freedom is secured not by the fulfilling of ones desires, but by the removal of desire.',\n",
    "'9': 'The unexamined life is not worth living.',\n",
    "'76': 'Life is a series of natural and spontaneous changes.',\n",
    "'70': 'God is dead! He remains dead! And we have killed him.'\n",
    "}"
   ]
  },
  {
   "cell_type": "markdown",
   "metadata": {},
   "source": [
    "### 1. Sort the dictionary by its keys. Using traditional sorting."
   ]
  },
  {
   "cell_type": "code",
   "execution_count": 131,
   "metadata": {},
   "outputs": [],
   "source": [
    "my_list = list(chest.items())\n"
   ]
  },
  {
   "cell_type": "code",
   "execution_count": 132,
   "metadata": {},
   "outputs": [
    {
     "data": {
      "text/plain": [
       "[('0',\n",
       "  'Freedom is secured not by the fulfilling of ones desires, but by the removal of desire.'),\n",
       " ('13', 'The Truth is in the Heart.'),\n",
       " ('42', 'It is the Answer to Life the Universe and Everything.'),\n",
       " ('666',\n",
       "  'If you would be a real seeker after truth, it is necessary that at least once in your life you doubt, as far as possible, all things.'),\n",
       " ('70', 'God is dead! He remains dead! And we have killed him.'),\n",
       " ('76', 'Life is a series of natural and spontaneous changes.'),\n",
       " ('8',\n",
       "  'It is wrong always, everywhere and for everyone, to believe anything upon insufficient evidence.'),\n",
       " ('9', 'The unexamined life is not worth living.')]"
      ]
     },
     "execution_count": 132,
     "metadata": {},
     "output_type": "execute_result"
    }
   ],
   "source": [
    "# I have sorted using bubble sort algorithm \n",
    "\n",
    "for i in range(len(my_list)-1, 0, -1):\n",
    "    for j in range(i):\n",
    "        if my_list[j][0] > my_list[j+1][0]:\n",
    "            my_list[j], my_list[j+1]=my_list[j+1], my_list[j]\n",
    "\n",
    "my_list\n",
    "            \n",
    "\n"
   ]
  },
  {
   "cell_type": "code",
   "execution_count": 133,
   "metadata": {},
   "outputs": [
    {
     "data": {
      "text/plain": [
       "{'0': 'Freedom is secured not by the fulfilling of ones desires, but by the removal of desire.',\n",
       " '13': 'The Truth is in the Heart.',\n",
       " '42': 'It is the Answer to Life the Universe and Everything.',\n",
       " '666': 'If you would be a real seeker after truth, it is necessary that at least once in your life you doubt, as far as possible, all things.',\n",
       " '70': 'God is dead! He remains dead! And we have killed him.',\n",
       " '76': 'Life is a series of natural and spontaneous changes.',\n",
       " '8': 'It is wrong always, everywhere and for everyone, to believe anything upon insufficient evidence.',\n",
       " '9': 'The unexamined life is not worth living.'}"
      ]
     },
     "execution_count": 133,
     "metadata": {},
     "output_type": "execute_result"
    }
   ],
   "source": [
    "new_chest_dict = dict(my_list)\n",
    "new_chest_dict"
   ]
  },
  {
   "cell_type": "markdown",
   "metadata": {},
   "source": [
    "### 2. Get the values of first, second, last and second last keys."
   ]
  },
  {
   "cell_type": "code",
   "execution_count": 134,
   "metadata": {},
   "outputs": [
    {
     "name": "stdout",
     "output_type": "stream",
     "text": [
      "First Key value is 'Freedom is secured not by the fulfilling of ones desires, but by the removal of desire.' \n",
      "Second key value is 'The Truth is in the Heart.', \n",
      "Second last key value is 'It is wrong always, everywhere and for everyone, to believe anything upon insufficient evidence.', \n",
      "And last key value is 'The unexamined life is not worth living.'.\n"
     ]
    }
   ],
   "source": [
    "new_chest_dict_keys = new_chest_dict.keys()\n",
    "new_chest_dict_keys_sorted = sorted(new_chest_dict_keys)\n",
    "first_key = new_chest_dict_keys_sorted[0]\n",
    "second_key = new_chest_dict_keys_sorted[1]\n",
    "last_key = new_chest_dict_keys_sorted[-1]\n",
    "second_last_key = new_chest_dict_keys_sorted[-2]\n",
    "\n",
    "first_key_value = new_chest_dict[first_key]\n",
    "second_key_value = new_chest_dict[second_key]\n",
    "second_last_key_value = new_chest_dict[second_last_key]\n",
    "last_key_value = new_chest_dict[last_key]\n",
    "\n",
    "print(f\"First Key value is '{first_key_value}' \\nSecond key value is '{second_key_value}', \\nSecond last key value is '{second_last_key_value}', \\nAnd last key value is '{last_key_value}'.\")\n"
   ]
  },
  {
   "cell_type": "markdown",
   "metadata": {},
   "source": [
    "### 3. Concatenate the values of obtained keys in a string."
   ]
  },
  {
   "cell_type": "code",
   "execution_count": 135,
   "metadata": {},
   "outputs": [
    {
     "data": {
      "text/plain": [
       "'Freedom is secured not by the fulfilling of ones desires, but by the removal of desire. The Truth is in the Heart. It is wrong always, everywhere and for everyone, to believe anything upon insufficient evidence. The unexamined life is not worth living.'"
      ]
     },
     "execution_count": 135,
     "metadata": {},
     "output_type": "execute_result"
    }
   ],
   "source": [
    "concatenated_string = first_key_value + ' ' + second_key_value + ' ' + second_last_key_value + ' ' + last_key_value\n",
    "concatenated_string"
   ]
  },
  {
   "cell_type": "markdown",
   "metadata": {},
   "source": [
    "### 4. Get first and last characters of each word in concatenated string, no spaces in between."
   ]
  },
  {
   "cell_type": "code",
   "execution_count": 252,
   "metadata": {},
   "outputs": [
    {
     "name": "stdout",
     "output_type": "stream",
     "text": [
      "Fm is sd nt by te fg of os d, bt by te rl of d. Te Th is in te H. It is wg a, ee ad fr e, to be ag un it e. Te ud le is nt wh l."
     ]
    }
   ],
   "source": [
    "for i in range(len(concatenated_string)):\n",
    "    if i == 0:\n",
    "        print(concatenated_string[i], end=\"\")\n",
    "\n",
    "    if i == len(concatenated_string) - 1:\n",
    "        print(concatenated_string[i], end=\"\")\n",
    "    \n",
    "    if concatenated_string[i] == \" \":\n",
    "        print(concatenated_string[i -1], concatenated_string[i+1], end=\"\")\n",
    "\n",
    "\n",
    "    \n"
   ]
  },
  {
   "cell_type": "code",
   "execution_count": 227,
   "metadata": {},
   "outputs": [
    {
     "name": "stdout",
     "output_type": "stream",
     "text": [
      "hl"
     ]
    }
   ],
   "source": []
  },
  {
   "cell_type": "markdown",
   "metadata": {},
   "source": [
    "### 5. Get the number of occurrences of each letter in the resulting string and get top 5 letters without using any python package."
   ]
  },
  {
   "cell_type": "code",
   "execution_count": 145,
   "metadata": {},
   "outputs": [
    {
     "data": {
      "text/plain": [
       "{'F': 1,\n",
       " 'r': 13,\n",
       " 'e': 33,\n",
       " 'd': 7,\n",
       " 'o': 13,\n",
       " 'm': 3,\n",
       " ' ': 42,\n",
       " 'i': 19,\n",
       " 's': 11,\n",
       " 'c': 3,\n",
       " 'u': 7,\n",
       " 'n': 17,\n",
       " 't': 13,\n",
       " 'b': 4,\n",
       " 'y': 6,\n",
       " 'h': 9,\n",
       " 'f': 8,\n",
       " 'l': 8,\n",
       " 'g': 4,\n",
       " ',': 3,\n",
       " 'v': 6,\n",
       " 'a': 7,\n",
       " '.': 4,\n",
       " 'T': 3,\n",
       " 'H': 1,\n",
       " 'I': 1,\n",
       " 'w': 4,\n",
       " 'p': 1,\n",
       " 'x': 1}"
      ]
     },
     "execution_count": 145,
     "metadata": {},
     "output_type": "execute_result"
    }
   ],
   "source": [
    "counted_string = {}\n",
    "for i in concatenated_string:\n",
    "    if i in counted_string:\n",
    "        counted_string[i] += 1\n",
    "    else:\n",
    "        counted_string[i] = 1\n",
    "counted_string"
   ]
  },
  {
   "cell_type": "code",
   "execution_count": 269,
   "metadata": {},
   "outputs": [
    {
     "data": {
      "text/plain": [
       "[42, 33, 19, 17, 13]"
      ]
     },
     "execution_count": 269,
     "metadata": {},
     "output_type": "execute_result"
    }
   ],
   "source": [
    "# Top 5 letters\n",
    "max_values = [value for key, value in counted_string.items()]\n",
    "number_of_occurances = sorted(max_values, reverse=True)[:5]\n",
    "number_of_occurances"
   ]
  },
  {
   "cell_type": "markdown",
   "metadata": {},
   "source": [
    "### 6. On the chest infront of you, there is a list of numbers."
   ]
  },
  {
   "cell_type": "code",
   "execution_count": 268,
   "metadata": {},
   "outputs": [],
   "source": [
    "key_list = [52,51,61,71,58]"
   ]
  },
  {
   "cell_type": "markdown",
   "metadata": {},
   "source": [
    "### 7. Sum the number_of_occurrences of the resulting dictionary with values of the key_list you found in the chest."
   ]
  },
  {
   "cell_type": "code",
   "execution_count": 271,
   "metadata": {},
   "outputs": [
    {
     "data": {
      "text/plain": [
       "[94, 84, 80, 88, 71]"
      ]
     },
     "execution_count": 271,
     "metadata": {},
     "output_type": "execute_result"
    }
   ],
   "source": [
    "\n",
    "result_sum = [number_of_occurances[i] + key_list[i] for i in range(len(number_of_occurances))]\n",
    "result_sum"
   ]
  },
  {
   "cell_type": "markdown",
   "metadata": {},
   "source": [
    "### 8. Then, get the ascii character of those 5 summed values and you shall get the treasure."
   ]
  },
  {
   "cell_type": "code",
   "execution_count": 275,
   "metadata": {},
   "outputs": [
    {
     "data": {
      "text/plain": [
       "['^', 'T', 'P', 'X', 'G']"
      ]
     },
     "execution_count": 275,
     "metadata": {},
     "output_type": "execute_result"
    }
   ],
   "source": [
    "ascii_list = []\n",
    "for i in result_sum:\n",
    "    ascii_list.append(chr(i))\n",
    "ascii_list"
   ]
  }
 ],
 "metadata": {
  "interpreter": {
   "hash": "916dbcbb3f70747c44a77c7bcd40155683ae19c65e1c03b4aa3499c5328201f1"
  },
  "kernelspec": {
   "display_name": "Python 3.8.10 64-bit",
   "language": "python",
   "name": "python3"
  },
  "language_info": {
   "codemirror_mode": {
    "name": "ipython",
    "version": 3
   },
   "file_extension": ".py",
   "mimetype": "text/x-python",
   "name": "python",
   "nbconvert_exporter": "python",
   "pygments_lexer": "ipython3",
   "version": "3.8.10"
  },
  "orig_nbformat": 4
 },
 "nbformat": 4,
 "nbformat_minor": 2
}
